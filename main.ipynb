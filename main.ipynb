{
 "cells": [
  {
   "cell_type": "code",
   "execution_count": 1,
   "metadata": {},
   "outputs": [],
   "source": [
    "# %pip install googlemaps\n",
    "\n",
    "import googlemaps\n",
    "import pandas as pd"
   ]
  },
  {
   "cell_type": "markdown",
   "metadata": {},
   "source": [
    "## Google Cloud Platform API Key"
   ]
  },
  {
   "cell_type": "code",
   "execution_count": 2,
   "metadata": {},
   "outputs": [],
   "source": [
    "KEY_API = 'XXXXXXXXXXXYYYYYYYYYYYYZZZZZZZZZZZZ'"
   ]
  },
  {
   "cell_type": "markdown",
   "metadata": {},
   "source": [
    "## Google Maps Object"
   ]
  },
  {
   "cell_type": "code",
   "execution_count": 3,
   "metadata": {},
   "outputs": [
    {
     "name": "stdout",
     "output_type": "stream",
     "text": [
      "\n",
      " API queries_quota: 60 \n",
      "\n"
     ]
    }
   ],
   "source": [
    "gmaps = googlemaps.Client(key=KEY_API)"
   ]
  },
  {
   "cell_type": "markdown",
   "metadata": {},
   "source": [
    "## Get a place ID and information"
   ]
  },
  {
   "cell_type": "code",
   "execution_count": 4,
   "metadata": {},
   "outputs": [],
   "source": [
    "place_name = 'TESLA 135 US-22, Springfield, NJ 07081, US'\n",
    "\n",
    "place_details = gmaps.places(place_name)\n",
    "place_ID = place_details['results'][0]['place_id']\n",
    "place = gmaps.place(place_ID)"
   ]
  },
  {
   "cell_type": "markdown",
   "metadata": {},
   "source": [
    "## Selecting opinion data"
   ]
  },
  {
   "cell_type": "code",
   "execution_count": 5,
   "metadata": {},
   "outputs": [],
   "source": [
    "reviews = []\n",
    "\n",
    "for i in range(len(place['result']['reviews'])):\n",
    "    review = place['result']['reviews'][i]['text']\n",
    "    rating = place['result']['reviews'][i]['rating']\n",
    "    time = place['result']['reviews'][i]['time']\n",
    "    language = place['result']['reviews'][i]['original_language']\n",
    "\n",
    "    reviews.append({\n",
    "        'Rating' : rating,\n",
    "        'Review' : review,\n",
    "        'Time' : time,\n",
    "        'Language' : language\n",
    "    })\n",
    "    \n",
    "data = pd.DataFrame(reviews)"
   ]
  },
  {
   "cell_type": "markdown",
   "metadata": {},
   "source": [
    "## Saving to csv file"
   ]
  },
  {
   "cell_type": "code",
   "execution_count": 6,
   "metadata": {},
   "outputs": [],
   "source": [
    "data.to_csv('Reviews.csv', sep='\\t', encoding='utf-8', index_label = 'ID')"
   ]
  }
 ],
 "metadata": {
  "kernelspec": {
   "display_name": "Python 3.9.2 64-bit ('env': venv)",
   "language": "python",
   "name": "python3"
  },
  "language_info": {
   "codemirror_mode": {
    "name": "ipython",
    "version": 3
   },
   "file_extension": ".py",
   "mimetype": "text/x-python",
   "name": "python",
   "nbconvert_exporter": "python",
   "pygments_lexer": "ipython3",
   "version": "3.9.2"
  },
  "orig_nbformat": 4,
  "vscode": {
   "interpreter": {
    "hash": "aadb3894289de65753ded94d615f2ab6551331e41c01c78d1491e73b4b8c6f50"
   }
  }
 },
 "nbformat": 4,
 "nbformat_minor": 2
}
